{
 "cells": [
  {
   "cell_type": "markdown",
   "id": "409f0f4a",
   "metadata": {},
   "source": [
    "**Ödev-1:** Kullanıcıdan maaş bilgisini istenir ve bu bilgiye göre maaşından ne kadar vergi kesileceğini hesaplanır. Kullanıcının geliri;\n",
    "\n",
    "1. 10000 ve altındaysa maaşından %5 kesinti olur.\n",
    "2. 25000 ve altındaysa maaşından %10 kesinti olur.\n",
    "3. 45000 ve altındaysa maaşından %25 kesinti olur.\n",
    "4. Diğer koşullarda %30 kesinti olur.\n",
    "\n",
    "Bu durumlara göre kullanıcının yeni maaşı yazdırılır."
   ]
  },
  {
   "cell_type": "code",
   "execution_count": 10,
   "id": "5246e510",
   "metadata": {},
   "outputs": [
    {
     "name": "stdout",
     "output_type": "stream",
     "text": [
      "yeni maaşınız:13500.0\n"
     ]
    }
   ],
   "source": [
    "maas = int(input(\"maaş bilginizi giriniz:\"))\n",
    "if maas <= 10000:\n",
    "    yeni_maas = maas - maas*0.05\n",
    "elif maas<=25000:\n",
    "    yeni_maas = maas - maas*0.1\n",
    "elif maas<=45000:\n",
    "    yeni_maas = maas - maas*0.25\n",
    "else:\n",
    "    yeni_maas=maas - maas*0.3\n",
    "\n",
    "print(\"yeni maaşınız:{}\".format(yeni_maas))\n"
   ]
  },
  {
   "cell_type": "markdown",
   "id": "f5fe8798",
   "metadata": {},
   "source": [
    "**Ödev-2:** Kullanıcıdan kullanıcı adı ve şifre oluşturmasını istenir. Şifrenin uzunluğu altı haneye ulaşmışsa hesabınız oluşturuldu mesajı alınır, altı haneden azsa altı haneli şifre oluşturması gerektiğinin mesajı alınır. *(Sadece koşul kullanılması yeterli.)*"
   ]
  },
  {
   "cell_type": "code",
   "execution_count": 12,
   "id": "6acffe57",
   "metadata": {},
   "outputs": [
    {
     "name": "stdout",
     "output_type": "stream",
     "text": [
      "Hesabınız oluşturuldu.\n"
     ]
    }
   ],
   "source": [
    "kullanıcı_adınız = input(\"Lütfen kullanıcı adınızı giriniz:\")\n",
    "sifre = input(\"Lütfen şifrenizi giriniz:\")\n",
    "\n",
    "if len(sifre) ==6:\n",
    "    print(\"Hesabınız oluşturuldu.\")\n",
    "else:\n",
    "    print(\"Lütfen 6 haneli şifre giriniz.\")"
   ]
  },
  {
   "cell_type": "markdown",
   "id": "aaccf11a",
   "metadata": {},
   "source": [
    "**Ödev-3:** Bir önceki örnek geliştirilir.\n",
    "\n",
    "1. Kullanıcı girdiği şifre 5 ve 10 hane arasında olmak zorunda.\n",
    "2. Eğer bu koşula uyuyorsa \"Hesabınız oluşturuldu.\" mesajı alır.\n",
    "3. Koşulu sağlamıyorsa \"Lütfen girdiniz şifre 5 haneden az 10 haneden fazla olmasın!\" uyarısı alır.\n",
    "4. Bunu oluştururken kullanıcı istediğimiz şartlarda şifre oluşturana kadar sormaya devam eder"
   ]
  },
  {
   "cell_type": "code",
   "execution_count": 23,
   "id": "039e50dc",
   "metadata": {},
   "outputs": [
    {
     "name": "stdout",
     "output_type": "stream",
     "text": [
      "Hesabınız oluşturuldu.\n"
     ]
    }
   ],
   "source": [
    "kullanıcı_adı = input(\"Lütfen kullanıcı adı giriniz:\")\n",
    "i = 1\n",
    "while i==1:\n",
    " sifre = input(\"Lütfen şifre giriniz:\")\n",
    " if 5<len(sifre)<10:\n",
    "    print(\"Hesabınız oluşturuldu.\")\n",
    "    i=0\n",
    " else:\n",
    "    print(\"Lütfen girdiğiniz şifre 5 haneden az 10 haneden fazla olmasın!\")"
   ]
  },
  {
   "cell_type": "markdown",
   "id": "8ba81863",
   "metadata": {},
   "source": [
    "**Ödev-4:** Kullanıcıdan isim ve şifre isteyeceğiz ve şifre girişi için üç hak verilir.\n",
    "\n",
    "1. Eğer önceden tanımlı şifre ile kullanıcıdan gelen şifre aynıysa \"Giriş yapıldı.\" yazar.\n",
    "2. Şifre girişi yanlışsa \"Yanlış şifre girildi!\" uyarısı verilsin ve üç yanlış denemede program biter.\n",
    "3. Tercihe göre kalan hak bilgisi verilir."
   ]
  },
  {
   "cell_type": "code",
   "execution_count": 27,
   "id": "8f45ea0c",
   "metadata": {},
   "outputs": [
    {
     "name": "stdout",
     "output_type": "stream",
     "text": [
      "Giriş yapıldı.\n"
     ]
    }
   ],
   "source": [
    "kullanıcı_adı = input(\"Lütfen kullanıcı adınızı giriniz:\")\n",
    "kullanıcı_sifre = 123456\n",
    "i=3\n",
    "while i>0:\n",
    "    sifre = int(input(\"Lütfen şifrenizi giriniz\"))\n",
    "    if sifre == kullanıcı_sifre:\n",
    "      print(\"Giriş yapıldı.\")\n",
    "      break\n",
    "    else:\n",
    "       print(\"Yanlış şifre girildi.\")\n",
    "       i-=1\n",
    "       print(i,\"hakkınız kaldı.\")\n"
   ]
  },
  {
   "cell_type": "code",
   "execution_count": 31,
   "id": "be415a39",
   "metadata": {},
   "outputs": [
    {
     "name": "stdout",
     "output_type": "stream",
     "text": [
      "Yanlış şifre girildi.\n",
      "2 hakkınız kaldı.\n",
      "Yanlış şifre girildi.\n",
      "1 hakkınız kaldı.\n",
      "Giriş yapıldı.\n"
     ]
    }
   ],
   "source": [
    "kullanıcı_adı = input(\"Lütfen kullanıcı adınızı giriniz:\")\n",
    "kullanıcı_sifre = 1964\n",
    "for i in range(3,0,-1):\n",
    "    sifre=int(input(\"Lütfen şifrenizi giriniz:\"))\n",
    "    if sifre==kullanıcı_sifre:\n",
    "        print(\"Giriş yapıldı.\")\n",
    "        break\n",
    "    else:\n",
    "        print(\"Yanlış şifre girildi.\")\n",
    "        print(i-1,\"hakkınız kaldı.\")\n",
    "\n"
   ]
  }
 ],
 "metadata": {
  "kernelspec": {
   "display_name": "Python 3 (ipykernel)",
   "language": "python",
   "name": "python3"
  },
  "language_info": {
   "codemirror_mode": {
    "name": "ipython",
    "version": 3
   },
   "file_extension": ".py",
   "mimetype": "text/x-python",
   "name": "python",
   "nbconvert_exporter": "python",
   "pygments_lexer": "ipython3",
   "version": "3.9.4"
  }
 },
 "nbformat": 4,
 "nbformat_minor": 5
}
